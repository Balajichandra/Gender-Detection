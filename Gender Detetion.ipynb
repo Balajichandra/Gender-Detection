{
 "cells": [
  {
   "cell_type": "code",
   "execution_count": 1,
   "id": "b7f83e98",
   "metadata": {},
   "outputs": [],
   "source": [
    "#To allocate memorey for gpu(here we are using 50%)\n",
    "from tensorflow.compat.v1 import ConfigProto\n",
    "from tensorflow.compat.v1 import InteractiveSession\n",
    "\n",
    "config = ConfigProto()\n",
    "config.gpu_options.per_process_gpu_memory_fraction = 0.5\n",
    "config.gpu_options.allow_growth = True\n",
    "session = InteractiveSession(config=config)"
   ]
  },
  {
   "cell_type": "code",
   "execution_count": 2,
   "id": "56136b4f",
   "metadata": {},
   "outputs": [
    {
     "name": "stdout",
     "output_type": "stream",
     "text": [
      "2.0.0\n"
     ]
    }
   ],
   "source": [
    "import tensorflow as tf\n",
    "print(tf.__version__)"
   ]
  },
  {
   "cell_type": "code",
   "execution_count": 3,
   "id": "431133cb",
   "metadata": {},
   "outputs": [
    {
     "name": "stderr",
     "output_type": "stream",
     "text": [
      "Using TensorFlow backend.\n"
     ]
    }
   ],
   "source": [
    "from keras.layers import Input, Lambda, Dense, Flatten\n",
    "from keras.models import Model\n",
    "from keras.applications.vgg16 import VGG16\n",
    "from keras.preprocessing import image\n",
    "from keras.preprocessing.image import ImageDataGenerator,load_img\n",
    "from keras.models import Sequential"
   ]
  },
  {
   "cell_type": "code",
   "execution_count": 4,
   "id": "23781ca7",
   "metadata": {},
   "outputs": [],
   "source": [
    "import numpy as np\n",
    "from glob import glob"
   ]
  },
  {
   "cell_type": "code",
   "execution_count": 5,
   "id": "4fb0c413",
   "metadata": {},
   "outputs": [],
   "source": [
    "#resize all images\n",
    "IMAGE_SIZE = [224,224]\n",
    "train_path = 'train'\n",
    "test_path = 'test'"
   ]
  },
  {
   "cell_type": "code",
   "execution_count": 6,
   "id": "50d7cf6f",
   "metadata": {},
   "outputs": [],
   "source": [
    "vgg16 = VGG16(input_shape=IMAGE_SIZE + [3],weights='imagenet',include_top=False)"
   ]
  },
  {
   "cell_type": "code",
   "execution_count": 7,
   "id": "fe25ca75",
   "metadata": {},
   "outputs": [],
   "source": [
    "#dont train existing weights\n",
    "for layer in vgg16.layers:\n",
    "    layer.trainable = False"
   ]
  },
  {
   "cell_type": "code",
   "execution_count": 8,
   "id": "b87b1a7f",
   "metadata": {},
   "outputs": [
    {
     "data": {
      "text/plain": [
       "['train\\\\female', 'train\\\\male']"
      ]
     },
     "execution_count": 8,
     "metadata": {},
     "output_type": "execute_result"
    }
   ],
   "source": [
    "train_folders = glob('train/*')\n",
    "train_folders"
   ]
  },
  {
   "cell_type": "code",
   "execution_count": 9,
   "id": "9227ae41",
   "metadata": {},
   "outputs": [
    {
     "data": {
      "text/plain": [
       "['test\\\\female', 'test\\\\male']"
      ]
     },
     "execution_count": 9,
     "metadata": {},
     "output_type": "execute_result"
    }
   ],
   "source": [
    "test_folders = glob('test/*')\n",
    "test_folders"
   ]
  },
  {
   "cell_type": "code",
   "execution_count": 10,
   "id": "65725175",
   "metadata": {},
   "outputs": [],
   "source": [
    "#flattern layer\n",
    "x = Flatten()(vgg16.output)"
   ]
  },
  {
   "cell_type": "code",
   "execution_count": 11,
   "id": "6906162a",
   "metadata": {},
   "outputs": [],
   "source": [
    "prediction = Dense(2,activation='softmax')(x)\n",
    "#create model\n",
    "model = Model(inputs=vgg16.input,outputs=prediction)"
   ]
  },
  {
   "cell_type": "code",
   "execution_count": 12,
   "id": "8d42ad77",
   "metadata": {},
   "outputs": [
    {
     "name": "stdout",
     "output_type": "stream",
     "text": [
      "Model: \"model_1\"\n",
      "_________________________________________________________________\n",
      "Layer (type)                 Output Shape              Param #   \n",
      "=================================================================\n",
      "input_1 (InputLayer)         (None, 224, 224, 3)       0         \n",
      "_________________________________________________________________\n",
      "block1_conv1 (Conv2D)        (None, 224, 224, 64)      1792      \n",
      "_________________________________________________________________\n",
      "block1_conv2 (Conv2D)        (None, 224, 224, 64)      36928     \n",
      "_________________________________________________________________\n",
      "block1_pool (MaxPooling2D)   (None, 112, 112, 64)      0         \n",
      "_________________________________________________________________\n",
      "block2_conv1 (Conv2D)        (None, 112, 112, 128)     73856     \n",
      "_________________________________________________________________\n",
      "block2_conv2 (Conv2D)        (None, 112, 112, 128)     147584    \n",
      "_________________________________________________________________\n",
      "block2_pool (MaxPooling2D)   (None, 56, 56, 128)       0         \n",
      "_________________________________________________________________\n",
      "block3_conv1 (Conv2D)        (None, 56, 56, 256)       295168    \n",
      "_________________________________________________________________\n",
      "block3_conv2 (Conv2D)        (None, 56, 56, 256)       590080    \n",
      "_________________________________________________________________\n",
      "block3_conv3 (Conv2D)        (None, 56, 56, 256)       590080    \n",
      "_________________________________________________________________\n",
      "block3_pool (MaxPooling2D)   (None, 28, 28, 256)       0         \n",
      "_________________________________________________________________\n",
      "block4_conv1 (Conv2D)        (None, 28, 28, 512)       1180160   \n",
      "_________________________________________________________________\n",
      "block4_conv2 (Conv2D)        (None, 28, 28, 512)       2359808   \n",
      "_________________________________________________________________\n",
      "block4_conv3 (Conv2D)        (None, 28, 28, 512)       2359808   \n",
      "_________________________________________________________________\n",
      "block4_pool (MaxPooling2D)   (None, 14, 14, 512)       0         \n",
      "_________________________________________________________________\n",
      "block5_conv1 (Conv2D)        (None, 14, 14, 512)       2359808   \n",
      "_________________________________________________________________\n",
      "block5_conv2 (Conv2D)        (None, 14, 14, 512)       2359808   \n",
      "_________________________________________________________________\n",
      "block5_conv3 (Conv2D)        (None, 14, 14, 512)       2359808   \n",
      "_________________________________________________________________\n",
      "block5_pool (MaxPooling2D)   (None, 7, 7, 512)         0         \n",
      "_________________________________________________________________\n",
      "flatten_1 (Flatten)          (None, 25088)             0         \n",
      "_________________________________________________________________\n",
      "dense_1 (Dense)              (None, 2)                 50178     \n",
      "=================================================================\n",
      "Total params: 14,764,866\n",
      "Trainable params: 50,178\n",
      "Non-trainable params: 14,714,688\n",
      "_________________________________________________________________\n"
     ]
    }
   ],
   "source": [
    "model.summary()"
   ]
  },
  {
   "cell_type": "code",
   "execution_count": 13,
   "id": "45cda3f8",
   "metadata": {},
   "outputs": [],
   "source": [
    "model.compile(loss='categorical_crossentropy',\n",
    "              optimizer='adam',\n",
    "              metrics=['accuracy'])"
   ]
  },
  {
   "cell_type": "code",
   "execution_count": 14,
   "id": "3158f205",
   "metadata": {},
   "outputs": [],
   "source": [
    "train_datagen = ImageDataGenerator(rescale=1./255,\n",
    "                                   shear_range=0.2,\n",
    "                                   zoom_range=0.2,\n",
    "                                   horizontal_flip = True)"
   ]
  },
  {
   "cell_type": "code",
   "execution_count": 15,
   "id": "fa73ee30",
   "metadata": {},
   "outputs": [],
   "source": [
    "test_datagen = ImageDataGenerator(rescale=1./255)"
   ]
  },
  {
   "cell_type": "code",
   "execution_count": 16,
   "id": "85458bce",
   "metadata": {},
   "outputs": [
    {
     "name": "stdout",
     "output_type": "stream",
     "text": [
      "Found 1849 images belonging to 2 classes.\n"
     ]
    }
   ],
   "source": [
    "training_set = train_datagen.flow_from_directory('train',\n",
    "                                                 target_size=(224,224),\n",
    "                                                 batch_size = 32,\n",
    "                                                 class_mode = 'categorical')"
   ]
  },
  {
   "cell_type": "code",
   "execution_count": 17,
   "id": "3b790c66",
   "metadata": {},
   "outputs": [
    {
     "name": "stdout",
     "output_type": "stream",
     "text": [
      "Found 458 images belonging to 2 classes.\n"
     ]
    }
   ],
   "source": [
    "test_set = test_datagen.flow_from_directory('test',\n",
    "                                            target_size = (224,224),\n",
    "                                            batch_size = 32,\n",
    "                                            class_mode = 'categorical')"
   ]
  },
  {
   "cell_type": "code",
   "execution_count": 18,
   "id": "90f6d2d5",
   "metadata": {},
   "outputs": [
    {
     "name": "stdout",
     "output_type": "stream",
     "text": [
      "Epoch 1/20\n",
      "58/58 [==============================] - 99s 2s/step - loss: 0.5072 - accuracy: 0.7918 - val_loss: 0.1588 - val_accuracy: 0.8865\n",
      "Epoch 2/20\n",
      "58/58 [==============================] - 22s 376ms/step - loss: 0.1352 - accuracy: 0.9508 - val_loss: 0.0594 - val_accuracy: 0.9301\n",
      "Epoch 3/20\n",
      "58/58 [==============================] - 22s 376ms/step - loss: 0.1075 - accuracy: 0.9621 - val_loss: 0.4502 - val_accuracy: 0.9301\n",
      "Epoch 4/20\n",
      "58/58 [==============================] - 34s 578ms/step - loss: 0.1001 - accuracy: 0.9621 - val_loss: 0.1274 - val_accuracy: 0.9367\n",
      "Epoch 5/20\n",
      "58/58 [==============================] - 26s 441ms/step - loss: 0.0769 - accuracy: 0.9735 - val_loss: 0.5972 - val_accuracy: 0.9345\n",
      "Epoch 6/20\n",
      "58/58 [==============================] - 26s 455ms/step - loss: 0.0682 - accuracy: 0.9789 - val_loss: 0.3448 - val_accuracy: 0.9454\n",
      "Epoch 7/20\n",
      "58/58 [==============================] - 22s 379ms/step - loss: 0.0623 - accuracy: 0.9773 - val_loss: 0.0149 - val_accuracy: 0.9410\n",
      "Epoch 8/20\n",
      "58/58 [==============================] - 22s 375ms/step - loss: 0.0513 - accuracy: 0.9832 - val_loss: 0.0588 - val_accuracy: 0.9410\n",
      "Epoch 9/20\n",
      "58/58 [==============================] - 32s 559ms/step - loss: 0.0590 - accuracy: 0.9784 - val_loss: 0.1725 - val_accuracy: 0.9520\n",
      "Epoch 10/20\n",
      "58/58 [==============================] - 30s 513ms/step - loss: 0.0430 - accuracy: 0.9843 - val_loss: 0.6065 - val_accuracy: 0.9367\n",
      "Epoch 11/20\n",
      "58/58 [==============================] - 26s 449ms/step - loss: 0.0397 - accuracy: 0.9881 - val_loss: 0.2631 - val_accuracy: 0.9432\n",
      "Epoch 12/20\n",
      "58/58 [==============================] - 22s 374ms/step - loss: 0.0404 - accuracy: 0.9897 - val_loss: 0.2399 - val_accuracy: 0.9389\n",
      "Epoch 13/20\n",
      "58/58 [==============================] - 22s 375ms/step - loss: 0.0365 - accuracy: 0.9892 - val_loss: 0.0348 - val_accuracy: 0.9476\n",
      "Epoch 14/20\n",
      "58/58 [==============================] - 22s 376ms/step - loss: 0.0336 - accuracy: 0.9924 - val_loss: 0.0791 - val_accuracy: 0.9432\n",
      "Epoch 15/20\n",
      "58/58 [==============================] - 34s 591ms/step - loss: 0.0390 - accuracy: 0.9849 - val_loss: 0.0481 - val_accuracy: 0.9585\n",
      "Epoch 16/20\n",
      "58/58 [==============================] - 22s 374ms/step - loss: 0.0287 - accuracy: 0.9913 - val_loss: 0.0032 - val_accuracy: 0.9476\n",
      "Epoch 17/20\n",
      "58/58 [==============================] - 38s 647ms/step - loss: 0.0227 - accuracy: 0.9957 - val_loss: 0.0070 - val_accuracy: 0.9498\n",
      "Epoch 18/20\n",
      "58/58 [==============================] - 36s 614ms/step - loss: 0.0227 - accuracy: 0.9941 - val_loss: 0.0465 - val_accuracy: 0.9498\n",
      "Epoch 19/20\n",
      "58/58 [==============================] - 26s 442ms/step - loss: 0.0218 - accuracy: 0.9935 - val_loss: 0.0161 - val_accuracy: 0.9389\n",
      "Epoch 20/20\n",
      "58/58 [==============================] - 45s 768ms/step - loss: 0.0283 - accuracy: 0.9924 - val_loss: 0.1543 - val_accuracy: 0.9389\n"
     ]
    }
   ],
   "source": [
    "#fit the model\n",
    "r = model.fit_generator(training_set,\n",
    "                        validation_data = test_set,\n",
    "                        epochs=20,\n",
    "                        steps_per_epoch = len(training_set),\n",
    "                        validation_steps = len(test_set))"
   ]
  },
  {
   "cell_type": "code",
   "execution_count": 19,
   "id": "68b8adab",
   "metadata": {},
   "outputs": [],
   "source": [
    "from keras.models import load_model\n",
    "model.save('Gender_Detection_vgg16.h5')"
   ]
  },
  {
   "cell_type": "code",
   "execution_count": null,
   "id": "f451de6b",
   "metadata": {},
   "outputs": [],
   "source": []
  }
 ],
 "metadata": {
  "kernelspec": {
   "display_name": "Python 3",
   "language": "python",
   "name": "python3"
  },
  "language_info": {
   "codemirror_mode": {
    "name": "ipython",
    "version": 3
   },
   "file_extension": ".py",
   "mimetype": "text/x-python",
   "name": "python",
   "nbconvert_exporter": "python",
   "pygments_lexer": "ipython3",
   "version": "3.6.13"
  }
 },
 "nbformat": 4,
 "nbformat_minor": 5
}
